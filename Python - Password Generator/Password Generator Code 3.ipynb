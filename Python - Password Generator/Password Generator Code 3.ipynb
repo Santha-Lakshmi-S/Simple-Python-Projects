{
  "nbformat": 4,
  "nbformat_minor": 0,
  "metadata": {
    "colab": {
      "provenance": []
    },
    "kernelspec": {
      "name": "python3",
      "display_name": "Python 3"
    },
    "language_info": {
      "name": "python"
    }
  },
  "cells": [
    {
      "cell_type": "markdown",
      "source": [
        "Password Generator - Code 3\n",
        "Without Window option\n",
        "\n",
        "INSTALL PACKAGES OF ipywidgets AND IPython BY:\n",
        "> !pip install ipywidgets\n",
        "\n",
        "> !pip install ipython"
      ],
      "metadata": {
        "id": "Sa5JV5p8rGGC"
      }
    },
    {
      "cell_type": "code",
      "execution_count": null,
      "metadata": {
        "id": "lszNRprkrEHE"
      },
      "outputs": [],
      "source": [
        "import ipywidgets as widgets\n",
        "from IPython.display import display\n",
        "import random\n",
        "import string\n",
        "\n",
        "# Function to generate a random password\n",
        "def generate_password(button):\n",
        "    length = int(length_entry.value)\n",
        "    characters = string.ascii_letters + string.digits + string.punctuation\n",
        "    password = ''.join(random.choice(characters) for _ in range(length))\n",
        "    password_label.value = f\"Generated Password: {password}\"\n",
        "\n",
        "# Function to save the username and password to a text file\n",
        "def save_credentials(button):\n",
        "    username = username_entry.value\n",
        "    password = password_label.value.replace(\"Generated Password: \", \"\")\n",
        "    with open(\"credentials.txt\", \"a\") as file:\n",
        "        file.write(f\"Username: {username}, Password: {password}\\n\")\n",
        "    username_entry.value = \"\"  # Clear the username field\n",
        "    password_label.value = \"\"\n",
        "\n",
        "# Username Entry\n",
        "username_label = widgets.Label(value=\"Username:\")\n",
        "username_entry = widgets.Text()\n",
        "display(username_label, username_entry)\n",
        "\n",
        "# Password Length Entry\n",
        "length_label = widgets.Label(value=\"Password Length:\")\n",
        "length_entry = widgets.IntText(value=0)\n",
        "display(length_label, length_entry)\n",
        "\n",
        "# Generate Password Button\n",
        "generate_button = widgets.Button(description=\"Generate Password\")\n",
        "generate_button.on_click(generate_password)\n",
        "display(generate_button)\n",
        "\n",
        "# Display Generated Password\n",
        "password_label = widgets.Label(value=\"Generated Password: \")\n",
        "display(password_label)\n",
        "\n",
        "# Save Button\n",
        "save_button = widgets.Button(description=\"Click to Save\")\n",
        "save_button.on_click(save_credentials)\n",
        "display(save_button)"
      ]
    }
  ]
}